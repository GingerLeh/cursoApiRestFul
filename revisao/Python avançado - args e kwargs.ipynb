{
 "cells": [
  {
   "cell_type": "code",
   "execution_count": 1,
   "id": "54bb7514",
   "metadata": {},
   "outputs": [],
   "source": [
    "# args => argumentos\n",
    "#kwargs => keywords arguments (argumentos de palavras chave)"
   ]
  },
  {
   "cell_type": "code",
   "execution_count": 2,
   "id": "a2e1fc76",
   "metadata": {},
   "outputs": [],
   "source": [
    "def lista_somada(lista):\n",
    "    return sum(lista)"
   ]
  },
  {
   "cell_type": "code",
   "execution_count": 3,
   "id": "6783cce2",
   "metadata": {},
   "outputs": [],
   "source": [
    "def soma_simplificada(*args):\n",
    "    return sum(args)"
   ]
  },
  {
   "cell_type": "code",
   "execution_count": 4,
   "id": "36022afb",
   "metadata": {},
   "outputs": [
    {
     "data": {
      "text/plain": [
       "53"
      ]
     },
     "execution_count": 4,
     "metadata": {},
     "output_type": "execute_result"
    }
   ],
   "source": [
    "soma_simplificada(3,5,6,7,7,4,3,5,6,4,3)"
   ]
  },
  {
   "cell_type": "code",
   "execution_count": 5,
   "id": "c8e7174c",
   "metadata": {},
   "outputs": [],
   "source": [
    "def metodo_kwargs(*args,**kwargs):\n",
    "    print(args)\n",
    "    print(kwargs)"
   ]
  },
  {
   "cell_type": "code",
   "execution_count": 6,
   "id": "9b9af307",
   "metadata": {},
   "outputs": [
    {
     "name": "stdout",
     "output_type": "stream",
     "text": [
      "(3, 'saa', 4, 'qlwkdlks', 6)\n",
      "{'nome': 'Ana'}\n"
     ]
    }
   ],
   "source": [
    "metodo_kwargs(3,'saa',4,'qlwkdlks',6, nome='Ana')"
   ]
  },
  {
   "cell_type": "code",
   "execution_count": 7,
   "id": "22ae9ce3",
   "metadata": {},
   "outputs": [],
   "source": [
    "#args antes dos kwargs"
   ]
  },
  {
   "cell_type": "code",
   "execution_count": null,
   "id": "2cf03a8c",
   "metadata": {},
   "outputs": [],
   "source": []
  }
 ],
 "metadata": {
  "kernelspec": {
   "display_name": "Python 3 (ipykernel)",
   "language": "python",
   "name": "python3"
  },
  "language_info": {
   "codemirror_mode": {
    "name": "ipython",
    "version": 3
   },
   "file_extension": ".py",
   "mimetype": "text/x-python",
   "name": "python",
   "nbconvert_exporter": "python",
   "pygments_lexer": "ipython3",
   "version": "3.9.12"
  }
 },
 "nbformat": 4,
 "nbformat_minor": 5
}

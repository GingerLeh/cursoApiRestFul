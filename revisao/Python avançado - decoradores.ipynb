{
 "cells": [
  {
   "cell_type": "code",
   "execution_count": 1,
   "id": "7be74766",
   "metadata": {},
   "outputs": [],
   "source": [
    "import functools"
   ]
  },
  {
   "cell_type": "code",
   "execution_count": 2,
   "id": "ac799bce",
   "metadata": {},
   "outputs": [],
   "source": [
    "def meu_decorador(funcao):\n",
    "    @functools.wraps(funcao)\n",
    "    def func_que_roda_funcao():\n",
    "        print('Embrulhando funçao no decorador')\n",
    "        funcao()\n",
    "        print('Fechando embrulho')\n",
    "    return func_que_roda_funcao\n",
    "              "
   ]
  },
  {
   "cell_type": "code",
   "execution_count": 4,
   "id": "2ebca02b",
   "metadata": {},
   "outputs": [],
   "source": [
    "@meu_decorador\n",
    "def minha_funcao():\n",
    "    print('eu sou uma funcao')"
   ]
  },
  {
   "cell_type": "code",
   "execution_count": 5,
   "id": "12acd3dc",
   "metadata": {},
   "outputs": [
    {
     "name": "stdout",
     "output_type": "stream",
     "text": [
      "Embrulhando funçao no decorador\n",
      "eu sou uma funcao\n",
      "Fechando embrulho\n"
     ]
    }
   ],
   "source": [
    "minha_funcao()"
   ]
  },
  {
   "cell_type": "code",
   "execution_count": null,
   "id": "1fc33b97",
   "metadata": {},
   "outputs": [],
   "source": []
  }
 ],
 "metadata": {
  "kernelspec": {
   "display_name": "Python 3 (ipykernel)",
   "language": "python",
   "name": "python3"
  },
  "language_info": {
   "codemirror_mode": {
    "name": "ipython",
    "version": 3
   },
   "file_extension": ".py",
   "mimetype": "text/x-python",
   "name": "python",
   "nbconvert_exporter": "python",
   "pygments_lexer": "ipython3",
   "version": "3.9.12"
  }
 },
 "nbformat": 4,
 "nbformat_minor": 5
}

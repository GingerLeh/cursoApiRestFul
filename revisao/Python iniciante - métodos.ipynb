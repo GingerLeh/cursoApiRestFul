{
 "cells": [
  {
   "cell_type": "code",
   "execution_count": 1,
   "id": "e7e41b59",
   "metadata": {},
   "outputs": [],
   "source": [
    "def método():\n",
    "    print(\"Olá\")"
   ]
  },
  {
   "cell_type": "code",
   "execution_count": 2,
   "id": "a4d9a13b",
   "metadata": {},
   "outputs": [
    {
     "name": "stdout",
     "output_type": "stream",
     "text": [
      "Olá\n"
     ]
    }
   ],
   "source": [
    "método()"
   ]
  },
  {
   "cell_type": "code",
   "execution_count": 6,
   "id": "cbd0d1a2",
   "metadata": {},
   "outputs": [],
   "source": [
    "def soma_dois_valores(valor1,valor2):\n",
    "    soma = valor1+valor2\n",
    "    return soma"
   ]
  },
  {
   "cell_type": "code",
   "execution_count": 7,
   "id": "fb678323",
   "metadata": {},
   "outputs": [
    {
     "data": {
      "text/plain": [
       "6"
      ]
     },
     "execution_count": 7,
     "metadata": {},
     "output_type": "execute_result"
    }
   ],
   "source": [
    "soma_dois_valores(1,5)"
   ]
  },
  {
   "cell_type": "code",
   "execution_count": 8,
   "id": "7b570a2f",
   "metadata": {},
   "outputs": [
    {
     "data": {
      "text/plain": [
       "1"
      ]
     },
     "execution_count": 8,
     "metadata": {},
     "output_type": "execute_result"
    }
   ],
   "source": [
    "abs(-1) #modulo "
   ]
  },
  {
   "cell_type": "code",
   "execution_count": null,
   "id": "f14ec739",
   "metadata": {},
   "outputs": [],
   "source": []
  }
 ],
 "metadata": {
  "kernelspec": {
   "display_name": "Python 3 (ipykernel)",
   "language": "python",
   "name": "python3"
  },
  "language_info": {
   "codemirror_mode": {
    "name": "ipython",
    "version": 3
   },
   "file_extension": ".py",
   "mimetype": "text/x-python",
   "name": "python",
   "nbconvert_exporter": "python",
   "pygments_lexer": "ipython3",
   "version": "3.9.12"
  }
 },
 "nbformat": 4,
 "nbformat_minor": 5
}

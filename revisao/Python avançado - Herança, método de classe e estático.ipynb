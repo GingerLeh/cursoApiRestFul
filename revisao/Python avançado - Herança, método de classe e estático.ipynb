{
 "cells": [
  {
   "cell_type": "code",
   "execution_count": 29,
   "id": "6bbba579",
   "metadata": {},
   "outputs": [],
   "source": [
    "class Funcionario():\n",
    "    aumento = 1.04\n",
    "    \n",
    "    def __init__(self,nome,salario):\n",
    "        self.nome = nome\n",
    "        self.salario = salario\n",
    "        \n",
    "    def dados(self):\n",
    "        return {'nome':self.nome,'salario':self.salario}\n",
    "    \n",
    "    def aplicar_aumento(self):\n",
    "        self.salario = self.salario*self.aumento\n",
    "        \n",
    "    @classmethod\n",
    "    def definir_novo_aumento(cls,novo_aumento):\n",
    "        cls.aumento = novo_aumento\n",
    "    @staticmethod #nao exige argumento \n",
    "    def dia_util(dia):\n",
    "        if dia.weekday()==5 or dia.weekday()==6:\n",
    "            return False\n",
    "        return True"
   ]
  },
  {
   "cell_type": "code",
   "execution_count": 18,
   "id": "7552b5b2",
   "metadata": {},
   "outputs": [],
   "source": [
    "fabio = Funcionario('Fabio', 4000)"
   ]
  },
  {
   "cell_type": "code",
   "execution_count": 27,
   "id": "0ec1d5d5",
   "metadata": {},
   "outputs": [
    {
     "data": {
      "text/plain": [
       "{'nome': 'Fabio', 'salario': 4499.456000000001}"
      ]
     },
     "execution_count": 27,
     "metadata": {},
     "output_type": "execute_result"
    }
   ],
   "source": [
    "fabio.dados()"
   ]
  },
  {
   "cell_type": "code",
   "execution_count": 26,
   "id": "29be6435",
   "metadata": {},
   "outputs": [],
   "source": [
    "fabio.aplicar_aumento()"
   ]
  },
  {
   "cell_type": "code",
   "execution_count": 25,
   "id": "80449279",
   "metadata": {},
   "outputs": [],
   "source": [
    "Funcionario.definir_novo_aumento(1.05)"
   ]
  },
  {
   "cell_type": "code",
   "execution_count": 30,
   "id": "57e092c4",
   "metadata": {},
   "outputs": [],
   "source": [
    "import datetime"
   ]
  },
  {
   "cell_type": "code",
   "execution_count": 31,
   "id": "1f460eea",
   "metadata": {},
   "outputs": [],
   "source": [
    "minha_data=datetime.date(2022,10,18)"
   ]
  },
  {
   "cell_type": "code",
   "execution_count": 32,
   "id": "694c15b5",
   "metadata": {},
   "outputs": [
    {
     "data": {
      "text/plain": [
       "True"
      ]
     },
     "execution_count": 32,
     "metadata": {},
     "output_type": "execute_result"
    }
   ],
   "source": [
    "Funcionario.dia_util(minha_data)"
   ]
  },
  {
   "cell_type": "code",
   "execution_count": 4,
   "id": "1dcc49db",
   "metadata": {},
   "outputs": [],
   "source": [
    "class Admin(Funcionario): \n",
    "    def __init__(self,nome,salario):\n",
    "        super().__init__(nome,salario)\n",
    "    def atualizar_dados(self,salario):\n",
    "        self.salario=salario\n",
    "        return self.dados()"
   ]
  },
  {
   "cell_type": "code",
   "execution_count": 5,
   "id": "da833a33",
   "metadata": {},
   "outputs": [],
   "source": [
    "fernando = Admin('Fernando',10000)"
   ]
  },
  {
   "cell_type": "code",
   "execution_count": 6,
   "id": "0137c0f0",
   "metadata": {},
   "outputs": [
    {
     "data": {
      "text/plain": [
       "{'nome': 'Fernando', 'salario': 11000}"
      ]
     },
     "execution_count": 6,
     "metadata": {},
     "output_type": "execute_result"
    }
   ],
   "source": [
    "fernando.atualizar_dados(11000)"
   ]
  },
  {
   "cell_type": "code",
   "execution_count": null,
   "id": "d32da205",
   "metadata": {},
   "outputs": [],
   "source": []
  }
 ],
 "metadata": {
  "kernelspec": {
   "display_name": "Python 3 (ipykernel)",
   "language": "python",
   "name": "python3"
  },
  "language_info": {
   "codemirror_mode": {
    "name": "ipython",
    "version": 3
   },
   "file_extension": ".py",
   "mimetype": "text/x-python",
   "name": "python",
   "nbconvert_exporter": "python",
   "pygments_lexer": "ipython3",
   "version": "3.9.12"
  }
 },
 "nbformat": 4,
 "nbformat_minor": 5
}

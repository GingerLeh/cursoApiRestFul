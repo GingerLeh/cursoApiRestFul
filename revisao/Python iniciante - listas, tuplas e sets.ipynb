{
 "cells": [
  {
   "cell_type": "code",
   "execution_count": 1,
   "id": "75ef43a5",
   "metadata": {},
   "outputs": [],
   "source": [
    "notas = [3,4,5,6,7,7]"
   ]
  },
  {
   "cell_type": "code",
   "execution_count": 2,
   "id": "d2fe18d3",
   "metadata": {},
   "outputs": [],
   "source": [
    "notas.append(10)"
   ]
  },
  {
   "cell_type": "code",
   "execution_count": 3,
   "id": "9fb6f261",
   "metadata": {},
   "outputs": [
    {
     "data": {
      "text/plain": [
       "7"
      ]
     },
     "execution_count": 3,
     "metadata": {},
     "output_type": "execute_result"
    }
   ],
   "source": [
    "len(notas)"
   ]
  },
  {
   "cell_type": "code",
   "execution_count": 4,
   "id": "be0f2857",
   "metadata": {},
   "outputs": [
    {
     "data": {
      "text/plain": [
       "42"
      ]
     },
     "execution_count": 4,
     "metadata": {},
     "output_type": "execute_result"
    }
   ],
   "source": [
    "sum(notas)"
   ]
  },
  {
   "cell_type": "code",
   "execution_count": 5,
   "id": "54f65b7d",
   "metadata": {},
   "outputs": [
    {
     "data": {
      "text/plain": [
       "6.0"
      ]
     },
     "execution_count": 5,
     "metadata": {},
     "output_type": "execute_result"
    }
   ],
   "source": [
    "sum(notas)/len(notas)"
   ]
  },
  {
   "cell_type": "markdown",
   "id": "7b21384d",
   "metadata": {},
   "source": [
    "Tuplas "
   ]
  },
  {
   "cell_type": "code",
   "execution_count": 8,
   "id": "0fc58ed8",
   "metadata": {},
   "outputs": [],
   "source": [
    "tupla = (3,4,5)"
   ]
  },
  {
   "cell_type": "code",
   "execution_count": 9,
   "id": "35ebadff",
   "metadata": {},
   "outputs": [],
   "source": [
    "tupla += (4,)"
   ]
  },
  {
   "cell_type": "code",
   "execution_count": 10,
   "id": "bf3b64ce",
   "metadata": {},
   "outputs": [
    {
     "data": {
      "text/plain": [
       "(3, 4, 5, 4)"
      ]
     },
     "execution_count": 10,
     "metadata": {},
     "output_type": "execute_result"
    }
   ],
   "source": [
    "tupla"
   ]
  },
  {
   "cell_type": "code",
   "execution_count": 12,
   "id": "490512fc",
   "metadata": {},
   "outputs": [],
   "source": [
    "# Sets"
   ]
  },
  {
   "cell_type": "code",
   "execution_count": 14,
   "id": "7feff590",
   "metadata": {},
   "outputs": [],
   "source": [
    "set_nota={1,2,3,4,5,6,5,6,7,7} #nao pode ter valores repetidos"
   ]
  },
  {
   "cell_type": "code",
   "execution_count": 15,
   "id": "15057084",
   "metadata": {},
   "outputs": [],
   "source": [
    "set_nota.add(9)"
   ]
  },
  {
   "cell_type": "code",
   "execution_count": 16,
   "id": "7b40d08a",
   "metadata": {},
   "outputs": [
    {
     "data": {
      "text/plain": [
       "{1, 2, 3, 4, 5, 6, 7, 9}"
      ]
     },
     "execution_count": 16,
     "metadata": {},
     "output_type": "execute_result"
    }
   ],
   "source": [
    "set_nota"
   ]
  },
  {
   "cell_type": "code",
   "execution_count": 19,
   "id": "d42b3f29",
   "metadata": {},
   "outputs": [],
   "source": [
    "set_nota.add(\"valor\")"
   ]
  },
  {
   "cell_type": "code",
   "execution_count": 20,
   "id": "f49324f0",
   "metadata": {},
   "outputs": [
    {
     "data": {
      "text/plain": [
       "{1, 2, 3, 4, 5, 6, 7, 9, 'valor'}"
      ]
     },
     "execution_count": 20,
     "metadata": {},
     "output_type": "execute_result"
    }
   ],
   "source": [
    "set_nota"
   ]
  },
  {
   "cell_type": "code",
   "execution_count": null,
   "id": "becde3ea",
   "metadata": {},
   "outputs": [],
   "source": []
  }
 ],
 "metadata": {
  "kernelspec": {
   "display_name": "Python 3 (ipykernel)",
   "language": "python",
   "name": "python3"
  },
  "language_info": {
   "codemirror_mode": {
    "name": "ipython",
    "version": 3
   },
   "file_extension": ".py",
   "mimetype": "text/x-python",
   "name": "python",
   "nbconvert_exporter": "python",
   "pygments_lexer": "ipython3",
   "version": "3.9.12"
  }
 },
 "nbformat": 4,
 "nbformat_minor": 5
}

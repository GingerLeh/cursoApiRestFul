{
 "cells": [
  {
   "cell_type": "code",
   "execution_count": 1,
   "id": "fdf589c8",
   "metadata": {},
   "outputs": [
    {
     "data": {
      "text/plain": [
       "[0, 1, 2, 3, 4]"
      ]
     },
     "execution_count": 1,
     "metadata": {},
     "output_type": "execute_result"
    }
   ],
   "source": [
    "[x for x in range(5)]"
   ]
  },
  {
   "cell_type": "code",
   "execution_count": 2,
   "id": "f04bfa8e",
   "metadata": {},
   "outputs": [
    {
     "name": "stdout",
     "output_type": "stream",
     "text": [
      "[1, 3, 5, 7, 9]\n"
     ]
    }
   ],
   "source": [
    "print( [n for n in range(11) if n %2==1])"
   ]
  },
  {
   "cell_type": "code",
   "execution_count": 4,
   "id": "1a09d863",
   "metadata": {},
   "outputs": [],
   "source": [
    "pessoas = [' Ana','manuela','FELIPe','PedrO']"
   ]
  },
  {
   "cell_type": "code",
   "execution_count": 5,
   "id": "c99ee8a2",
   "metadata": {},
   "outputs": [],
   "source": [
    "ana = ' Ana'"
   ]
  },
  {
   "cell_type": "code",
   "execution_count": 6,
   "id": "b5b30800",
   "metadata": {},
   "outputs": [
    {
     "data": {
      "text/plain": [
       "'Ana'"
      ]
     },
     "execution_count": 6,
     "metadata": {},
     "output_type": "execute_result"
    }
   ],
   "source": [
    "ana.strip()"
   ]
  },
  {
   "cell_type": "code",
   "execution_count": 8,
   "id": "a1721eab",
   "metadata": {},
   "outputs": [],
   "source": [
    "pessoas_normalizadas = [pessoa.strip().capitalize() for pessoa in pessoas]"
   ]
  },
  {
   "cell_type": "code",
   "execution_count": 9,
   "id": "f626a40d",
   "metadata": {},
   "outputs": [
    {
     "data": {
      "text/plain": [
       "['Ana', 'Manuela', 'Felipe', 'Pedro']"
      ]
     },
     "execution_count": 9,
     "metadata": {},
     "output_type": "execute_result"
    }
   ],
   "source": [
    "pessoas_normalizadas"
   ]
  },
  {
   "cell_type": "code",
   "execution_count": null,
   "id": "db549e12",
   "metadata": {},
   "outputs": [],
   "source": []
  }
 ],
 "metadata": {
  "kernelspec": {
   "display_name": "Python 3 (ipykernel)",
   "language": "python",
   "name": "python3"
  },
  "language_info": {
   "codemirror_mode": {
    "name": "ipython",
    "version": 3
   },
   "file_extension": ".py",
   "mimetype": "text/x-python",
   "name": "python",
   "nbconvert_exporter": "python",
   "pygments_lexer": "ipython3",
   "version": "3.9.12"
  }
 },
 "nbformat": 4,
 "nbformat_minor": 5
}
